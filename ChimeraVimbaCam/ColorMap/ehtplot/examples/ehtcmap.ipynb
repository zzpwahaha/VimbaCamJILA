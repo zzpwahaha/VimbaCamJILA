{
 "cells": [
  {
   "cell_type": "markdown",
   "metadata": {},
   "source": [
    "# EHT Colormaps\n",
    "\n",
    "This Jupyter Notebook lists new colormaps made by the `ehtplot.color.cmap.ehtcmap` function.  They can potentially be new colormaps used by the [EHT](https://eventhorizontelescope.org/)."
   ]
  },
  {
   "cell_type": "code",
   "execution_count": null,
   "metadata": {},
   "outputs": [],
   "source": [
    "# Enable autoreload for easy module development\n",
    "%load_ext autoreload\n",
    "%autoreload 2\n",
    "\n",
    "# Load the necessary libraries\n",
    "from IPython.core.display import display, HTML, Javascript \n",
    "\n",
    "import numpy as np\n",
    "\n",
    "import ehtplot as ep\n",
    "from ehtplot.color import vis as ev\n",
    "from ehtplot.color import cmap as ec\n",
    "\n",
    "# Display text with 16px fonts\n",
    "display(HTML(\"<style>.rendered_html { font-size: 16px; }</style>\"))\n",
    "\n",
    "# Disable cell scrolling\n",
    "display(Javascript(\"IPython.OutputArea.prototype._should_scroll = function(lines) { return false; }\"))"
   ]
  },
  {
   "cell_type": "markdown",
   "metadata": {},
   "source": [
    "We are now ready to create a list of custom colormaps and plot them"
   ]
  },
  {
   "cell_type": "code",
   "execution_count": null,
   "metadata": {},
   "outputs": [],
   "source": [
    "cmaps = [ec.ehtcmap(Jpmin=Jpmin, name=\"$J'_\\min={}$\".format(Jpmin)) for Jpmin in range(10,50,10)]\n",
    "pnl1 = ep.Panel('cmap', cmaps)\n",
    "pnl2 = ep.Panel('pyramid', cmaps)\n",
    "fig = ep.Figure(pnl2, pnl1, inrow=False, figsize=(12,6))\n",
    "fig.draw()"
   ]
  },
  {
   "cell_type": "code",
   "execution_count": null,
   "metadata": {},
   "outputs": [],
   "source": []
  }
 ],
 "metadata": {
  "kernelspec": {
   "display_name": "Python 3",
   "language": "python",
   "name": "python3"
  },
  "language_info": {
   "codemirror_mode": {
    "name": "ipython",
    "version": 3
   },
   "file_extension": ".py",
   "mimetype": "text/x-python",
   "name": "python",
   "nbconvert_exporter": "python",
   "pygments_lexer": "ipython3",
   "version": "3.7.2"
  }
 },
 "nbformat": 4,
 "nbformat_minor": 2
}
